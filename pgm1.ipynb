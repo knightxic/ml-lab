import csv
num_attribute=6
a=[]
with open('D:/ML LAB/pgm1.csv','r') as csvfile:
    reader=csv.reader(csvfile)
    for row in reader:
        a.append(row)
        print(row)
print("\n the total training instances are: ",len(a))
num_attribute=len(a[0])-1
print("\n the initial hypothesis:")
hypothesis = ['0']*num_attribute
print(hypothesis)
for j in range(0,num_attribute):
    hypothesis[j]=a[0][j]
print("\n find-s:\n")
for i in range(0,len(a)):
    if a[i][num_attribute]=='yes':
        for j in range(0,num_attribute):
            if a[i][j]!=hypothesis[j]:
                hypothesis[j]='?'
            else:
                hypothesis[j]=a[i][j]
    print("\n for training example no:{0} hypothesis is".format(i),hypothesis)
print("\n the maximum specific hypothesis for training instance is")
print(hypothesis)
    
