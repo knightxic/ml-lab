import csv
a=[]
with open("D:/ML LAB/pgm1.csv","r") as csvfile:
    fdata=csv.reader(csvfile)
    for row in fdata:
        a.append(row)
        print(row)
num_att=len(a[0])-1
S=['0']*num_att
G=['?']*num_att
print(S)
print(G)
temp=[]
for j in range(0,num_att):
    S[j]=a[0][j]
print("................................................")
for i in range(0,len(a)):
    if a[i][num_att]=="yes":
        for j in range(0,num_att):
            if S[j]!=a[i][j]:
                S[j]='?'
        for j in range(0,num_att):
            for k in range(0,len(temp)):
                if temp[k][j]!=S[j] and temp[k][j]!='?':
                    del temp[k]
    else:
        for j in range(0,num_att):
            if a[i][j]!=S[j] and S[j]!='?':
                G[j]=S[j]
                temp.append(G)
                G=['?']*num_att
    print(S)
    if len(temp)==0:
        print(G)
    else:
        print(temp)
    print("......................................................................")
